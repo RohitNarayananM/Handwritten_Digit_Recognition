{
  "nbformat": 4,
  "nbformat_minor": 0,
  "metadata": {
    "colab": {
      "name": "Handwritten_Digit_recognition.ipynb",
      "provenance": []
    },
    "kernelspec": {
      "name": "python3",
      "display_name": "Python 3"
    },
    "language_info": {
      "name": "python"
    }
  },
  "cells": [
    {
      "cell_type": "code",
      "execution_count": 1,
      "metadata": {
        "id": "9jfF83SZl7kK"
      },
      "outputs": [],
      "source": [
        "# fetching dataset\n",
        "from sklearn.datasets import fetch_openml\n",
        "import matplotlib\n",
        "import matplotlib.pyplot as plt\n",
        "import numpy as np\n",
        "from sklearn.linear_model import LogisticRegression\n",
        "from sklearn.model_selection import cross_val_score\n",
        "from sklearn.metrics import accuracy_score,brier_score_loss,average_precision_score\n",
        "from sklearn.naive_bayes import GaussianNB\n",
        "from sklearn.neighbors import KNeighborsClassifier\n",
        "from sklearn.tree import DecisionTreeClassifier\n",
        "from sklearn import svm\n",
        "import warnings\n",
        "from sklearn.exceptions import ConvergenceWarning\n",
        "import cv2\n",
        "from google.colab.patches import cv2_imshow\n",
        "from PIL import Image\n",
        "from collections import Counter\n",
        "warnings.filterwarnings(action='ignore', category=ConvergenceWarning)\n"
      ]
    },
    {
      "cell_type": "code",
      "source": [
        "def show(img):\n",
        "  some_digit_image=img.reshape(28,28)\n",
        "  plt.imshow(some_digit_image, cmap=matplotlib.cm.binary,interpolation='nearest')\n",
        "  plt.axis(\"off\")\n",
        "  plt.show()"
      ],
      "metadata": {
        "id": "bbRAAZwDZw_Q"
      },
      "execution_count": 2,
      "outputs": []
    },
    {
      "cell_type": "code",
      "source": [
        "mnist = fetch_openml('mnist_784')\n",
        "x, y = mnist['data'], mnist['target']\n",
        "\n",
        "some_digit = x.to_numpy()[36001]\n",
        "show(some_digit)"
      ],
      "metadata": {
        "colab": {
          "base_uri": "https://localhost:8080/",
          "height": 247
        },
        "id": "WsxO0e1kmi6F",
        "outputId": "87ca23de-a322-4f95-bd2a-fd07a5257d1d"
      },
      "execution_count": 3,
      "outputs": [
        {
          "output_type": "display_data",
          "data": {
            "image/png": "[encoded data removed]",
            "text/plain": [
              "<Figure size 432x288 with 1 Axes>"
            ]
          },
          "metadata": {
            "needs_background": "light"
          }
        }
      ]
    },
    {
      "cell_type": "code",
      "source": [
        "x_train, x_test = x[:60000], x[60000:70000]\n",
        "y_train, y_test = y[:60000], y[60000:70000]\n",
        "\n",
        "shuffle_index = np.random.permutation(6000)\n",
        "x_train, y_train = x_train.iloc[shuffle_index], y_train[shuffle_index]\n",
        "\n",
        "y_train = y_train.astype(np.int8)\n",
        "y_test = y_test.astype(np.int8)"
      ],
      "metadata": {
        "id": "zQo99ZIImjFc"
      },
      "execution_count": 4,
      "outputs": []
    },
    {
      "cell_type": "code",
      "source": [
        "clf = LogisticRegression(tol=0.1)\n",
        "clf.fit(x_train.values, y_train)\n",
        "a = cross_val_score(clf, x_train.values, y_train, cv=3, scoring=\"accuracy\")\n",
        "print(f\"Mean of CV of Linear Regression: {a.mean()}\")\n",
        "print(f\"Accuracy of Linear regression  : {clf.score(x_test.values,y_test)}\")"
      ],
      "metadata": {
        "colab": {
          "base_uri": "https://localhost:8080/"
        },
        "id": "0M00mVg9mjOd",
        "outputId": "8cd7b6fe-35a7-42a1-a11c-337818c22507"
      },
      "execution_count": 5,
      "outputs": [
        {
          "output_type": "stream",
          "name": "stdout",
          "text": [
            "Mean of CV of Linear Regression: 0.8715\n",
            "Accuracy of Linear regression  : 0.8665\n"
          ]
        }
      ]
    },
    {
      "cell_type": "code",
      "source": [
        "model = GaussianNB()\n",
        "model.fit(x_train.values,y_train)\n",
        "a = cross_val_score(model, x_train.values, y_train, cv=3, scoring=\"accuracy\")\n",
        "print(f\"Mean of CV of Naive Bayes      : {a.mean()}\")\n",
        "print(f\"Accuracy of Naive Bayes        : {model.score(x_test.values,y_test)}\")"
      ],
      "metadata": {
        "colab": {
          "base_uri": "https://localhost:8080/"
        },
        "id": "ctfaf_UB1bTb",
        "outputId": "adf39929-b829-4efd-b70e-183fb5913389"
      },
      "execution_count": 6,
      "outputs": [
        {
          "output_type": "stream",
          "name": "stdout",
          "text": [
            "Mean of CV of Naive Bayes      : 0.594\n",
            "Accuracy of Naive Bayes        : 0.578\n"
          ]
        }
      ]
    },
    {
      "cell_type": "code",
      "source": [
        "neigh = KNeighborsClassifier(n_neighbors=3)\n",
        "neigh.fit(x_train.values,y_train)\n",
        "a = cross_val_score(neigh, x_train.values, y_train, cv=3, scoring=\"accuracy\")\n",
        "print(f\"Mean of CV of Kneighbors       : {a.mean()}\")\n",
        "print(f\"Accuracy of KNeighbors         : {neigh.score(x_test.values,y_test)}\")"
      ],
      "metadata": {
        "colab": {
          "base_uri": "https://localhost:8080/"
        },
        "id": "-t63z0BE1bWb",
        "outputId": "6b8e41ee-cf6f-487a-b44a-254a8c03ef4b"
      },
      "execution_count": 7,
      "outputs": [
        {
          "output_type": "stream",
          "name": "stdout",
          "text": [
            "Mean of CV of Kneighbors       : 0.9345\n",
            "Accuracy of KNeighbors         : 0.9363\n"
          ]
        }
      ]
    },
    {
      "cell_type": "code",
      "source": [
        "tree = DecisionTreeClassifier(random_state=0)\n",
        "tree.fit(x_train.values, y_train)\n",
        "a = cross_val_score(tree, x_train.values, y_train, cv=3, scoring=\"accuracy\")\n",
        "print(f\"Mean of CV of Decision Tree    : {a.mean()}\")\n",
        "print(f\"Accuracy of Decision Tree      : {tree.score(x_test.values, y_test)}\")"
      ],
      "metadata": {
        "colab": {
          "base_uri": "https://localhost:8080/"
        },
        "id": "0baxSaT51gKD",
        "outputId": "7cf612a8-fbf0-413e-ec4c-4c5024d379a3"
      },
      "execution_count": 8,
      "outputs": [
        {
          "output_type": "stream",
          "name": "stdout",
          "text": [
            "Mean of CV of Decision Tree    : 0.7786666666666666\n",
            "Accuracy of Decision Tree      : 0.7842\n"
          ]
        }
      ]
    },
    {
      "cell_type": "code",
      "source": [
        "svc = svm.SVC(kernel='rbf')\n",
        "svc.fit(x_train.values, y_train)\n",
        "a = cross_val_score(svc, x_train.values, y_train, cv=3, scoring=\"accuracy\")\n",
        "print(f\"Mean of CV of SVM              : {a.mean()}\")\n",
        "print(f\"Accuracy of SVM                : {svc.score(x_test.values, y_test)}\")"
      ],
      "metadata": {
        "colab": {
          "base_uri": "https://localhost:8080/"
        },
        "id": "OYnq_K991bZG",
        "outputId": "07cf9a52-cf55-4f27-e6ad-ee93bffa7d11"
      },
      "execution_count": 9,
      "outputs": [
        {
          "output_type": "stream",
          "name": "stdout",
          "text": [
            "Mean of CV of SVM              : 0.9511666666666666\n",
            "Accuracy of SVM                : 0.953\n"
          ]
        }
      ]
    },
    {
      "cell_type": "code",
      "source": [
        "def pred(img_array,plot):\n",
        "  img_pil = Image.fromarray(img_array)\n",
        "  img_28x28 = np.array(img_pil.resize((28, 28), Image.ANTIALIAS))\n",
        "  img_array = (img_28x28.flatten())\n",
        "  img_array=img_array.reshape(1, -1)\n",
        "  p=svc.predict(img_array)[0]\n",
        "  if plot : show(img_array)\n",
        "  return p\n",
        "img_array=cv2.imread('/content/6.jfif',cv2.IMREAD_GRAYSCALE)\n",
        "img_array= cv2.bitwise_not(img_array)\n",
        "print(pred(img_array,True))"
      ],
      "metadata": {
        "id": "DTUr8R8iYwUb",
        "colab": {
          "base_uri": "https://localhost:8080/",
          "height": 266
        },
        "outputId": "98123cfa-adcf-4376-8471-ed86c19b5919"
      },
      "execution_count": 10,
      "outputs": [
        {
          "output_type": "display_data",
          "data": {
            "image/png": "[encoded data removed]",
            "text/plain": [
              "<Figure size 432x288 with 1 Axes>"
            ]
          },
          "metadata": {
            "needs_background": "light"
          }
        },
        {
          "output_type": "stream",
          "name": "stdout",
          "text": [
            "6\n"
          ]
        }
      ]
    },
    {
      "cell_type": "code",
      "source": [
        "# from google.colab import files\n",
        "# import io\n",
        "# uploaded = files.upload()\n",
        "img = cv2.imread('/content/test.png')\n",
        "print(img.shape)\n",
        "# convert to grayscale\n",
        "gray = cv2.cvtColor(img,cv2.COLOR_BGR2GRAY)\n",
        "gray = cv2.bitwise_not(gray)\n",
        "\n",
        "# threshold\n",
        "_,thresh = cv2.threshold(gray,100,200,cv2.THRESH_BINARY)\n",
        "\n",
        "# get contours\n",
        "result = img.copy()\n",
        "contours = cv2.findContours(thresh, cv2.RETR_EXTERNAL, cv2.CHAIN_APPROX_SIMPLE)\n",
        "contours = contours[0] if len(contours) == 2 else contours[1]\n",
        "for cntr in contours:\n",
        "    x,y,w,h = cv2.boundingRect(cntr)\n",
        "    if h<10 or w<5:continue\n",
        "    w=max(w,28)\n",
        "    h=max(h,28)\n",
        "    if w < h:\n",
        "      x-=(h-w)//2\n",
        "      w=h\n",
        "    else:\n",
        "      y-=(w-h)//2\n",
        "      h=w\n",
        "    new=gray.copy()[y:y+h,x:w+x]\n",
        "    c=pred(new,True)\n",
        "    cv2.rectangle(result, (x, y), (x+w, y+h), (0, 0, 255), 2)\n",
        "    cv2.putText(result,str(c),(x+w//2-2,y-10),cv2.FONT_HERSHEY_SIMPLEX,1,(0,0,255),3)\n",
        "    print(\"x,y,w,h:\",x,y,w,h,c)\n",
        "cv2_imshow(result)"
      ],
      "metadata": {
        "colab": {
          "base_uri": "https://localhost:8080/",
          "height": 1000
        },
        "id": "u4YmuNaqYiUz",
        "outputId": "b1e68887-3ab0-409a-e41c-0ba101a2b228"
      },
      "execution_count": 11,
      "outputs": [
        {
          "output_type": "stream",
          "name": "stdout",
          "text": [
            "(390, 732, 3)\n"
          ]
        },
        {
          "output_type": "display_data",
          "data": {
            "image/png": "[encoded data removed]",
            "text/plain": [
              "<Figure size 432x288 with 1 Axes>"
            ]
          },
          "metadata": {
            "needs_background": "light"
          }
        },
        {
          "output_type": "stream",
          "name": "stdout",
          "text": [
            "x,y,w,h: 139 281 63 63 5\n"
          ]
        },
        {
          "output_type": "display_data",
          "data": {
            "image/png": "[encoded data removed]",
            "text/plain": [
              "<Figure size 432x288 with 1 Axes>"
            ]
          },
          "metadata": {
            "needs_background": "light"
          }
        },
        {
          "output_type": "stream",
          "name": "stdout",
          "text": [
            "x,y,w,h: 426 280 63 63 1\n"
          ]
        },
        {
          "output_type": "display_data",
          "data": {
            "image/png": "[encoded data removed]",
            "text/plain": [
              "<Figure size 432x288 with 1 Axes>"
            ]
          },
          "metadata": {
            "needs_background": "light"
          }
        },
        {
          "output_type": "stream",
          "name": "stdout",
          "text": [
            "x,y,w,h: 303 278 49 49 5\n"
          ]
        },
        {
          "output_type": "display_data",
          "data": {
            "image/png": "[encoded data removed]",
            "text/plain": [
              "<Figure size 432x288 with 1 Axes>"
            ]
          },
          "metadata": {
            "needs_background": "light"
          }
        },
        {
          "output_type": "stream",
          "name": "stdout",
          "text": [
            "x,y,w,h: 512 202 52 52 0\n"
          ]
        },
        {
          "output_type": "display_data",
          "data": {
            "image/png": "[encoded data removed]",
            "text/plain": [
              "<Figure size 432x288 with 1 Axes>"
            ]
          },
          "metadata": {
            "needs_background": "light"
          }
        },
        {
          "output_type": "stream",
          "name": "stdout",
          "text": [
            "x,y,w,h: 207 151 52 52 4\n"
          ]
        },
        {
          "output_type": "display_data",
          "data": {
            "image/png": "[encoded data removed]",
            "text/plain": [
              "<Figure size 432x288 with 1 Axes>"
            ]
          },
          "metadata": {
            "needs_background": "light"
          }
        },
        {
          "output_type": "stream",
          "name": "stdout",
          "text": [
            "x,y,w,h: 413 124 54 54 3\n"
          ]
        },
        {
          "output_type": "display_data",
          "data": {
            "image/png": "[encoded data removed]",
            "text/plain": [
              "<Figure size 432x288 with 1 Axes>"
            ]
          },
          "metadata": {
            "needs_background": "light"
          }
        },
        {
          "output_type": "stream",
          "name": "stdout",
          "text": [
            "x,y,w,h: 625 101 46 46 7\n"
          ]
        },
        {
          "output_type": "display_data",
          "data": {
            "image/png": "[encoded data removed]",
            "text/plain": [
              "<Figure size 432x288 with 1 Axes>"
            ]
          },
          "metadata": {
            "needs_background": "light"
          }
        },
        {
          "output_type": "stream",
          "name": "stdout",
          "text": [
            "x,y,w,h: 54 100 46 46 5\n"
          ]
        },
        {
          "output_type": "display_data",
          "data": {
            "image/png": "[encoded data removed]",
            "text/plain": [
              "<Figure size 432x288 with 1 Axes>"
            ]
          },
          "metadata": {
            "needs_background": "light"
          }
        },
        {
          "output_type": "stream",
          "name": "stdout",
          "text": [
            "x,y,w,h: 259 47 41 41 2\n"
          ]
        },
        {
          "output_type": "display_data",
          "data": {
            "image/png": "[encoded data removed]",
            "text/plain": [
              "<PIL.Image.Image image mode=RGB size=732x390 at 0x7F08E98BA450>"
            ]
          },
          "metadata": {}
        }
      ]
    },
    {
      "cell_type": "code",
      "source": [
        ""
      ],
      "metadata": {
        "id": "Rq8ja2zRhN_h"
      },
      "execution_count": 11,
      "outputs": []
    }
  ]
}